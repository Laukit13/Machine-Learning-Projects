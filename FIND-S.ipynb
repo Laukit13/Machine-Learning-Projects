{
 "cells": [
  {
   "cell_type": "code",
   "execution_count": 61,
   "metadata": {},
   "outputs": [
    {
     "name": "stdout",
     "output_type": "stream",
     "text": [
      "[['Example', 'Sky', 'Air Temp', 'Humidity', 'Wind', 'Forecast', 'EnjoySport'], ['1', 'Sunny', 'Warm', 'Normal', 'Strong', 'Same', 'Yes'], ['2', 'Sunny', 'Warm', 'High', 'Strong', 'Same', 'Yes'], ['3', 'Rainy', 'Cold', 'High', 'Strong', 'Change', 'No'], ['4', 'Sunny', 'Warm', 'High', 'Strong', 'Change', 'Yes']]\n",
      "\n",
      " The total number of training instances are :  5\n",
      "\n",
      " The initial hypothesis is : \n",
      "['0', '0', '0', '0', '0', '0']\n",
      "\n",
      " The hypothesis for the training instance 1 is : \n",
      " ['0', '0', '0', '0', '0', '0']\n",
      "\n",
      " The Maximally specific hypothesis for the training instance is \n",
      "['0', '0', '0', '0', '0', '0']\n",
      "\n",
      " The hypothesis for the training instance 2 is : \n",
      " ['0', '0', '0', '0', '0', '0']\n",
      "\n",
      " The Maximally specific hypothesis for the training instance is \n",
      "['0', '0', '0', '0', '0', '0']\n",
      "\n",
      " The hypothesis for the training instance 3 is : \n",
      " ['0', '0', '0', '0', '0', '0']\n",
      "\n",
      " The Maximally specific hypothesis for the training instance is \n",
      "['0', '0', '0', '0', '0', '0']\n",
      "\n",
      " The hypothesis for the training instance 4 is : \n",
      " ['0', '0', '0', '0', '0', '0']\n",
      "\n",
      " The Maximally specific hypothesis for the training instance is \n",
      "['0', '0', '0', '0', '0', '0']\n",
      "\n",
      " The hypothesis for the training instance 5 is : \n",
      " ['0', '0', '0', '0', '0', '0']\n",
      "\n",
      " The Maximally specific hypothesis for the training instance is \n",
      "['0', '0', '0', '0', '0', '0']\n"
     ]
    }
   ],
   "source": [
    "import csv\n",
    "a = []\n",
    "with open('Weather.csv', 'r') as csvfile:\n",
    " for row in csv.reader(csvfile):\n",
    "        a.append(row)\n",
    "print(a)\n",
    "    \n",
    "print(\"\\n The total number of training instances are : \",len(a))\n",
    "\n",
    "num_attribute = len(a[0])-1\n",
    "\n",
    "print(\"\\n The initial hypothesis is : \")\n",
    "hypothesis = ['0']*num_attribute\n",
    "print(hypothesis)\n",
    "\n",
    "for i in range(0, len(a)):\n",
    "    if a[i][num_attribute] == 'yes':\n",
    "        for j in range(0, num_attribute):\n",
    "            if hypothesis[j] == '0' or hypothesis[j] == a[i][j]:\n",
    "                hypothesis[j] = a[i][j]\n",
    "            else:\n",
    "                hypothesis[j] = '?'\n",
    "    print(\"\\n The hypothesis for the training instance {} is : \\n\".format(i+1),hypothesis)\n",
    "    print(\"\\n The Maximally specific hypothesis for the training instance is \") \n",
    "    print(hypothesis)"
   ]
  },
  {
   "cell_type": "code",
   "execution_count": 60,
   "metadata": {},
   "outputs": [
    {
     "ename": "SyntaxError",
     "evalue": "EOL while scanning string literal (<ipython-input-60-b2168d297300>, line 1)",
     "output_type": "error",
     "traceback": [
      "\u001b[1;36m  File \u001b[1;32m\"<ipython-input-60-b2168d297300>\"\u001b[1;36m, line \u001b[1;32m1\u001b[0m\n\u001b[1;33m    print(\"The total number of training instances are : 4\u001b[0m\n\u001b[1;37m                                                         ^\u001b[0m\n\u001b[1;31mSyntaxError\u001b[0m\u001b[1;31m:\u001b[0m EOL while scanning string literal\n"
     ]
    }
   ],
   "source": [
    "\n",
    "\n"
   ]
  },
  {
   "cell_type": "code",
   "execution_count": null,
   "metadata": {},
   "outputs": [],
   "source": []
  }
 ],
 "metadata": {
  "kernelspec": {
   "display_name": "Python 3",
   "language": "python",
   "name": "python3"
  },
  "language_info": {
   "codemirror_mode": {
    "name": "ipython",
    "version": 3
   },
   "file_extension": ".py",
   "mimetype": "text/x-python",
   "name": "python",
   "nbconvert_exporter": "python",
   "pygments_lexer": "ipython3",
   "version": "3.7.3"
  }
 },
 "nbformat": 4,
 "nbformat_minor": 2
}
