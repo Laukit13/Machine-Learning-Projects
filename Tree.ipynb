{
 "cells": [
  {
   "cell_type": "markdown",
   "id": "606e0aec",
   "metadata": {},
   "source": [
    "# Tree"
   ]
  },
  {
   "cell_type": "code",
   "execution_count": 1,
   "id": "7c7d3408",
   "metadata": {},
   "outputs": [
    {
     "name": "stdout",
     "output_type": "stream",
     "text": [
      "Electronics\n",
      "   -->Laptop\n",
      "      -->Mac\n",
      "      -->Surface\n",
      "      -->Thinkpad\n",
      "   -->Cell Phone\n",
      "      -->iPhone\n",
      "      -->Google Pixel\n",
      "      -->Vivo\n",
      "   -->TV\n",
      "      -->Samsung\n",
      "      -->LG\n"
     ]
    }
   ],
   "source": [
    "class TreeNode:\n",
    "    def __init__(self, data):\n",
    "        self.data = data\n",
    "        self.children = []\n",
    "        self.parent = None\n",
    "\n",
    "    def get_level(self):\n",
    "        level = 0\n",
    "        p = self.parent\n",
    "        while p:\n",
    "            level += 1\n",
    "            p = p.parent\n",
    "        return level\n",
    "\n",
    "    def print_tree(self):\n",
    "        spaces = ' ' * self.get_level() * 3\n",
    "        prefix = spaces + \"-->\" if self.parent else \"\"\n",
    "        print(prefix + self.data)\n",
    "        if self.children:\n",
    "            for child in self.children:\n",
    "                child.print_tree()\n",
    "\n",
    "    def add_child(self, child):\n",
    "        child.parent = self\n",
    "        self.children.append(child)\n",
    "\n",
    "def build_product_tree():\n",
    "    root = TreeNode(\"Electronics\")\n",
    "\n",
    "    laptop = TreeNode(\"Laptop\")\n",
    "    laptop.add_child(TreeNode(\"Mac\"))\n",
    "    laptop.add_child(TreeNode(\"Surface\"))\n",
    "    laptop.add_child(TreeNode(\"Thinkpad\"))\n",
    "\n",
    "    cellphone = TreeNode(\"Cell Phone\")\n",
    "    cellphone.add_child(TreeNode(\"iPhone\"))\n",
    "    cellphone.add_child(TreeNode(\"Google Pixel\"))\n",
    "    cellphone.add_child(TreeNode(\"Vivo\"))\n",
    "\n",
    "    tv = TreeNode(\"TV\")\n",
    "    tv.add_child(TreeNode(\"Samsung\"))\n",
    "    tv.add_child(TreeNode(\"LG\"))\n",
    "\n",
    "    root.add_child(laptop)\n",
    "    root.add_child(cellphone)\n",
    "    root.add_child(tv)\n",
    "\n",
    "    root.print_tree()\n",
    "\n",
    "if __name__ == '__main__':\n",
    "    build_product_tree()"
   ]
  },
  {
   "cell_type": "markdown",
   "id": "650a941c",
   "metadata": {},
   "source": [
    "## Binary Tree \n"
   ]
  },
  {
   "cell_type": "markdown",
   "id": "81036ad1",
   "metadata": {},
   "source": [
    "**For Searching**<br>\n",
    "**We use BFS (Breadth First Search) and DFS(Depth First Search)**<br>\n",
    "**👉DFS**<br>\n",
    "      **👉👉In-order Traversal<br>**\n",
    "     **👉👉Pre-order Traversal<br>**\n",
    "     **👉👉Post-order Traversal<br>**"
   ]
  },
  {
   "cell_type": "markdown",
   "id": "cdb4b395",
   "metadata": {},
   "source": [
    "![title](r3.jpg)"
   ]
  },
  {
   "cell_type": "markdown",
   "id": "875f063b",
   "metadata": {},
   "source": [
    "**BST (Binary Search Tree)** 👇\n"
   ]
  },
  {
   "cell_type": "code",
   "execution_count": 8,
   "id": "b3372731",
   "metadata": {},
   "outputs": [
    {
     "name": "stdout",
     "output_type": "stream",
     "text": [
      "Building tree elements: [17, 4, 1, 20, 9, 23, 18, 34]\n",
      "For In Order traversal:  [1, 4, 9, 17, 18, 20, 23, 34]\n",
      "For Post Order traversal:  [1, 9, 4, 18, 34, 23, 20, 17]\n",
      "For Pre Order traversal:  [17, 4, 1, 9, 20, 18, 23, 34]\n",
      "True\n",
      "False\n"
     ]
    }
   ],
   "source": [
    "class BinarySearchTree:\n",
    "    def __init__(self,data):\n",
    "        self.data=data\n",
    "        self.left=None\n",
    "        self.right=None\n",
    "     \n",
    "    def add_child(self,data):\n",
    "        if  data == self.data:\n",
    "            return #Node Already exist\n",
    "        \n",
    "        if data<self.data:\n",
    "            if self.left:\n",
    "            #insert into left subtree\n",
    "                self.left.add_child(data)\n",
    "            else:\n",
    "                self.left=BinarySearchTree(data)\n",
    "        else:\n",
    "            if self.right:\n",
    "                #insert into right sub tree\n",
    "                self.right.add_child(data)\n",
    "            else:\n",
    "                self.right=BinarySearchTree(data)\n",
    "                \n",
    "    def Search(self,val):\n",
    "        if self.data == val:\n",
    "            return True\n",
    "        if val< self.data:\n",
    "            if self.left:\n",
    "                return self.left.Search(val)\n",
    "            else:\n",
    "                return False\n",
    "        if val> self.data:\n",
    "            if self.right:\n",
    "                return self.right.Search(val)\n",
    "            else:\n",
    "                return False\n",
    "                \n",
    "    def In_Order_Traversal(self):\n",
    "        elements = []      \n",
    "        \n",
    "        #Visit Left Subtree\n",
    "        if self.left:\n",
    "            elements += self.left.In_Order_Traversal()\n",
    "            \n",
    "        elements.append(self.data)\n",
    "        \n",
    "        #Visit Left Subtree\n",
    "        if self.right:\n",
    "            elements += self.right.In_Order_Traversal()\n",
    "\n",
    "        return elements\n",
    "    \n",
    "    def Post_Order_Traversal(self):\n",
    "        elements = []\n",
    "        if self.left:\n",
    "            elements += self.left.Post_Order_Traversal()       \n",
    "        if self.right:\n",
    "            elements += self.right.Post_Order_Traversal()\n",
    "            \n",
    "        elements.append(self.data)\n",
    "            \n",
    "        return elements\n",
    "\n",
    "    def Pre_Order_Traversal(self):\n",
    "        elements = [self.data]\n",
    "        if self.left:\n",
    "            elements += self.left.Pre_Order_Traversal()\n",
    "        if self.right:\n",
    "            elements += self.right.Pre_Order_Traversal()\n",
    "\n",
    "        return elements\n",
    "    \n",
    "\n",
    "        \n",
    "def build_tree(elements):\n",
    "    print(\"Building tree elements:\",elements)\n",
    "    root = BinarySearchTree(elements[0])\n",
    "\n",
    "    for i in range(1,len(elements)):\n",
    "        root.add_child(elements[i])\n",
    "\n",
    "    return root                \n",
    "                \n",
    "if __name__=='__main__':\n",
    "    numbers=[17,4,1,20,9,23,18,34]\n",
    "    root=build_tree(numbers)\n",
    "    print(\"For In Order traversal: \", root.In_Order_Traversal())\n",
    "    print(\"For Post Order traversal: \", root.Post_Order_Traversal())\n",
    "    print(\"For Pre Order traversal: \", root.Pre_Order_Traversal())\n",
    "    print(root.Search(23))\n",
    "    print(root.Search(90))\n",
    "    #root=BinarySearchTree(5)\n",
    "    #root.add_child(2)\n",
    "    #root.add_child(23)\n",
    "    #root.add_child(25)"
   ]
  }
 ],
 "metadata": {
  "kernelspec": {
   "display_name": "Python 3 (ipykernel)",
   "language": "python",
   "name": "python3"
  },
  "language_info": {
   "codemirror_mode": {
    "name": "ipython",
    "version": 3
   },
   "file_extension": ".py",
   "mimetype": "text/x-python",
   "name": "python",
   "nbconvert_exporter": "python",
   "pygments_lexer": "ipython3",
   "version": "3.9.7"
  }
 },
 "nbformat": 4,
 "nbformat_minor": 5
}
